{
 "cells": [
  {
   "cell_type": "markdown",
   "id": "a0afd346",
   "metadata": {},
   "source": [
    "# Basics of Numpy\n",
    "\n",
    "## Introductory Lesson: Array Basics\n",
    "\n",
    "### Mark Braxton\n",
    "\n",
    "#### March 2022"
   ]
  },
  {
   "cell_type": "code",
   "execution_count": 6,
   "id": "22999fc1",
   "metadata": {},
   "outputs": [],
   "source": [
    "#import NumPy\n",
    "\n",
    "import numpy as np"
   ]
  },
  {
   "cell_type": "markdown",
   "id": "c49a95dd",
   "metadata": {},
   "source": [
    "# Part 1: Arrays"
   ]
  },
  {
   "cell_type": "code",
   "execution_count": 8,
   "id": "fd44aeda",
   "metadata": {},
   "outputs": [],
   "source": [
    "#Create a few sample lists\n",
    "\n",
    "gpa = [3.1, 3.3, 4.0, 3.5, 2.5, 2.8, 2.0]\n",
    "age = [13, 15, 17, 12, 13, 16, 14]"
   ]
  },
  {
   "cell_type": "code",
   "execution_count": 9,
   "id": "f70d1ad5",
   "metadata": {},
   "outputs": [],
   "source": [
    "#Changing lists to numpy arrarys\n",
    "\n",
    "gpa_array = np.array(gpa)\n",
    "age_array = np.array(age)"
   ]
  },
  {
   "cell_type": "code",
   "execution_count": 14,
   "id": "9311dfaa",
   "metadata": {},
   "outputs": [
    {
     "name": "stdout",
     "output_type": "stream",
     "text": [
      "gpa_array: [3.1 3.3 4.  3.5 2.5 2.8 2. ] age_array:  [13 15 17 12 13 16 14]\n"
     ]
    }
   ],
   "source": [
    "#Display arrays\n",
    "\n",
    "print(\"gpa_array:\", gpa_array, \"age_array: \", age_array)"
   ]
  },
  {
   "cell_type": "code",
   "execution_count": 16,
   "id": "9d5ccf4c",
   "metadata": {},
   "outputs": [
    {
     "name": "stdout",
     "output_type": "stream",
     "text": [
      "<class 'list'>\n",
      "<class 'numpy.ndarray'>\n",
      "<class 'list'>\n",
      "<class 'numpy.ndarray'>\n"
     ]
    }
   ],
   "source": [
    "#Checking list vs. array type with built in function\n",
    "\n",
    "print(type(gpa))\n",
    "print(type(gpa_array))\n",
    "print(type(age))\n",
    "print(type(age_array))"
   ]
  },
  {
   "cell_type": "code",
   "execution_count": 41,
   "id": "910697b0",
   "metadata": {},
   "outputs": [
    {
     "data": {
      "text/plain": [
       "array([[ 3.1,  3.3,  4. ,  3.5,  2.5,  2.8,  2. ],\n",
       "       [13. , 15. , 17. , 12. , 13. , 16. , 14. ]])"
      ]
     },
     "execution_count": 41,
     "metadata": {},
     "output_type": "execute_result"
    }
   ],
   "source": [
    "#Array with multiple rows\n",
    "#Creating an Array with our GPA and Age lists\n",
    "\n",
    "Data_Array = np.array([gpa,age])\n",
    "Data_Array\n",
    "\n",
    "#Notice the ages are now in the form of integers since the GPA is in that form. The array function will put the values as the same integer type"
   ]
  },
  {
   "cell_type": "code",
   "execution_count": 59,
   "id": "d7574371",
   "metadata": {},
   "outputs": [
    {
     "name": "stdout",
     "output_type": "stream",
     "text": [
      "First Row of Array: [3.1 3.3 4.  3.5 2.5 2.8 2. ]\n",
      "First Column of Array: [ 3.1 13. ]\n",
      "Selection of the second row and only the elements from the 3rd and 4th columns: [17. 12.]\n"
     ]
    }
   ],
   "source": [
    "#Showing Various Indices of our Array\n",
    "\n",
    "#Showing the first row\n",
    "\n",
    "print(\"First Row of Array:\", Data_Array[0])\n",
    "\n",
    "#Showing the first column\n",
    "\n",
    "print(\"First Column of Array:\", Data_Array[:,0])\n",
    "\n",
    "#Showing the second row intersected with the 5th and 6th columns\n",
    "\n",
    "print(\"Selection of the second row and only the elements from the 3rd and 4th columns:\", Data_Array[1,2:4])\n",
    "\n",
    "#Notice how the columns are selected. The index of 1 in the above code refers to the second row of the Data Array.\n",
    "\n",
    "#The 2:4 index refers to starting at the 3rd column (remember, index 0 is column 1) going to index 4, which doesn't include index 4. It stops at index 3, which is the 4th column of the Array"
   ]
  },
  {
   "cell_type": "code",
   "execution_count": 66,
   "id": "c1ac1e18",
   "metadata": {},
   "outputs": [
    {
     "name": "stdout",
     "output_type": "stream",
     "text": [
      "Array created with arange: [0 1 2 3 4]\n",
      "Array created manually: [ 0 -1 -2 -3 -4]\n",
      "Adding different arrays: [0 0 0 0 0]\n",
      "Multiplying Array_1 by four: [ 0  4  8 12 16]\n"
     ]
    }
   ],
   "source": [
    "#You can creating an array with a set number of sequential elements\n",
    "\n",
    "Array_1 = np.arange(5)\n",
    "\n",
    "print(\"Array created with arange:\", Array_1)\n",
    "\n",
    "#Creating an array for operations\n",
    "\n",
    "Array_2 = np.array([0, -1, -2, -3, -4])\n",
    "\n",
    "print(\"Array created manually:\", Array_2)\n",
    "\n",
    "#You can perform operations on Arrays and binary operations on arrays. Note: the arrays need to have the same number of elements to do pairwise operations.\n",
    "\n",
    "print(\"Adding different arrays:\", Array_1 + Array_2)\n",
    "\n",
    "#Performing an operation on Array_1 \n",
    "print(\"Multiplying Array_1 by four:\", Array_1*4)"
   ]
  },
  {
   "cell_type": "code",
   "execution_count": 75,
   "id": "81cf30a2",
   "metadata": {},
   "outputs": [
    {
     "name": "stdout",
     "output_type": "stream",
     "text": [
      "Values in Array_1 less than zero: [-1 -2 -3 -4]\n"
     ]
    }
   ],
   "source": [
    "#Finding values in an array by comparision searches\n",
    "\n",
    "#Displaying values less than 0\n",
    "\n",
    "print(\"Values in Array_1 less than zero:\", Array_2[Array_2 < 0])"
   ]
  },
  {
   "cell_type": "code",
   "execution_count": 92,
   "id": "d45e8163",
   "metadata": {},
   "outputs": [
    {
     "name": "stdout",
     "output_type": "stream",
     "text": [
      "[0 1 2 3 4 5 6 7 8 9]\n",
      "Sum of Array_3: 45\n",
      "Min of Array_3: 0\n",
      "Mean of Array_3 = 4.5\n",
      "Median of Array_3 = 4.5\n"
     ]
    }
   ],
   "source": [
    "#Creating an array for practice\n",
    "\n",
    "Array_3 = np.arange(10)\n",
    "print(Array_3)\n",
    "\n",
    "#Sum of values in Array_3\n",
    "print(\"Sum of Array_3:\", Array_3.sum())\n",
    "\n",
    "#Min value in Array_3\n",
    "print(\"Min of Array_3:\", Array_3.min())\n",
    "\n",
    "#Mean of Array_3\n",
    "print(\"Mean of Array_3 =\", Array_3.mean())\n",
    "\n",
    "#Median of Array_3\n",
    "print(\"Median of Array_3 =\", np.median(Array_3))"
   ]
  },
  {
   "cell_type": "code",
   "execution_count": 113,
   "id": "fd6f727b",
   "metadata": {},
   "outputs": [
    {
     "name": "stdout",
     "output_type": "stream",
     "text": [
      "Array_4: [0 1 2 3 4 5] Array_5: [ 0  2  4  6  8 10]\n",
      "The shape of Array_4 is: (6,)\n",
      "The shape of Array_5 is: (6,)\n",
      "Concatenation of Array_4 and Array_5: [ 0  1  2  3  4  5  0  2  4  6  8 10]\n",
      "Below is the concatenation of Array_6 and Array_7 along the default x = 0 axis (stack):\n",
      "[[ 0  1  2  3]\n",
      " [ 4  5  6  7]\n",
      " [ 8  9 10 11]\n",
      " [12 13 14 15]]\n",
      "Below is the concatenation of Array_6 and Array_7 along the x = 1 axis (side by side)\n",
      "[[ 0  1  2  3  8  9 10 11]\n",
      " [ 4  5  6  7 12 13 14 15]]\n"
     ]
    }
   ],
   "source": [
    "#Array concatenation\n",
    "#Array must have the same dimensions when catecating along the rows or columns\n",
    "\n",
    "Array_4 = np.arange(6)\n",
    "Array_5 = np.arange(6)*2\n",
    "\n",
    "print(\"Array_4:\", Array_4,\"Array_5:\", Array_5)\n",
    "\n",
    "#Determine the shape of an array\n",
    "\n",
    "print(\"The shape of Array_4 is:\", Array_4.shape)\n",
    "print(\"The shape of Array_5 is:\", Array_5.shape)\n",
    "\n",
    "#concatenation of Array_4 and Array_5, the default axis here is 0, which puts the arrays side by side\n",
    "\n",
    "print(\"Concatenation of Array_4 and Array_5:\", np.concatenate([Array_4,Array_5]))\n",
    "\n",
    "#creating two new 2-D arrays\n",
    "\n",
    "Array_6 = np.array([[0,1,2,3],[4,5,6,7]])\n",
    "Array_7 = np.array([[8,9,10,11],[12,13,14,15]])\n",
    "\n",
    "#concatenation of 2-D arrays\n",
    "\n",
    "print(\"Below is the concatenation of Array_6 and Array_7 along the default x = 0 axis (stack):\")\n",
    "print(np.concatenate([Array_6,Array_7]))\n",
    "\n",
    "print(\"Below is the concatenation of Array_6 and Array_7 along the x = 1 axis (side by side)\")\n",
    "print(np.concatenate([Array_6,Array_7], axis = 1))"
   ]
  },
  {
   "cell_type": "code",
   "execution_count": 148,
   "id": "69c168b0",
   "metadata": {},
   "outputs": [
    {
     "name": "stdout",
     "output_type": "stream",
     "text": [
      "Array_8 arange defalut: [ 0  1  2  3  4  5  6  7  8  9 10 11 12 13 14 15 16 17 18 19]\n",
      "Below is Array_8 reshaped into a rectangular array:\n",
      "[[ 0  1  2  3]\n",
      " [ 4  5  6  7]\n",
      " [ 8  9 10 11]\n",
      " [12 13 14 15]\n",
      " [16 17 18 19]]\n",
      "Below, we created a new array with arange function and reshaped the array with the reshape function\n",
      "[[0 1 2 3 4]\n",
      " [5 6 7 8 9]]\n",
      "Now we are going to use the array_split function to put the array into 2 different arrays:\n",
      "[array([[0, 1, 2, 3, 4]]), array([[5, 6, 7, 8, 9]])]\n",
      "Below is our Array_11 with 10 rows and 6 columns:\n",
      "[[ 0  1  2  3  4  5]\n",
      " [ 6  7  8  9 10 11]\n",
      " [12 13 14 15 16 17]\n",
      " [18 19 20 21 22 23]\n",
      " [24 25 26 27 28 29]\n",
      " [30 31 32 33 34 35]\n",
      " [36 37 38 39 40 41]\n",
      " [42 43 44 45 46 47]\n",
      " [48 49 50 51 52 53]\n",
      " [54 55 56 57 58 59]]\n",
      "Now we will split the array by stacked rows (vsplit()):\n"
     ]
    },
    {
     "data": {
      "text/plain": [
       "[array([[ 0,  1,  2,  3,  4,  5],\n",
       "        [ 6,  7,  8,  9, 10, 11],\n",
       "        [12, 13, 14, 15, 16, 17],\n",
       "        [18, 19, 20, 21, 22, 23],\n",
       "        [24, 25, 26, 27, 28, 29]]),\n",
       " array([[30, 31, 32, 33, 34, 35],\n",
       "        [36, 37, 38, 39, 40, 41],\n",
       "        [42, 43, 44, 45, 46, 47],\n",
       "        [48, 49, 50, 51, 52, 53],\n",
       "        [54, 55, 56, 57, 58, 59]])]"
      ]
     },
     "execution_count": 148,
     "metadata": {},
     "output_type": "execute_result"
    }
   ],
   "source": [
    "#You can reshape an array to help with array operations or just to reshape the array in general\n",
    "\n",
    "#Creation of new Array_8\n",
    "\n",
    "Array_8 = np.arange(20)\n",
    "\n",
    "print(\"Array_8 arange defalut:\", Array_8)\n",
    "\n",
    "#reshape into a rectangular array\n",
    "\n",
    "print(\"Below is Array_8 reshaped into a rectangular array:\")\n",
    "Array_9 = Array_8.reshape(5,4)\n",
    "print(Array_9)\n",
    "\n",
    "#We can do the opposite of concatenation too with the split operation:\n",
    "#Let's split a 2-D array into two array by first creating a new array\n",
    "\n",
    "print(\"Below, we created a new array with arange function and reshaped the array with the reshape function\")\n",
    "Array_10 = np.arange(10).reshape(2,5)\n",
    "print(Array_10)\n",
    "print(\"Now we are going to use the array_split function to put the array into 2 different arrays:\")\n",
    "print(np.array_split(Array_10, 2))\n",
    "\n",
    "#The last thing we are going to do is split arrays by both columns and rows respectively\n",
    "Array_11 = np.arange(60).reshape(10,6)\n",
    "print(\"Below is our Array_11 with 10 rows and 6 columns:\")\n",
    "print(Array_11)\n",
    "print(\"Now we will split the array by stacked rows (vsplit()):\")\n",
    "np.vsplit(Array_11,2)"
   ]
  },
  {
   "cell_type": "code",
   "execution_count": 149,
   "id": "a6a288d2",
   "metadata": {},
   "outputs": [
    {
     "name": "stdout",
     "output_type": "stream",
     "text": [
      "Now we will split the array by columns (hsplit()):\n"
     ]
    },
    {
     "data": {
      "text/plain": [
       "[array([[ 0,  1,  2],\n",
       "        [ 6,  7,  8],\n",
       "        [12, 13, 14],\n",
       "        [18, 19, 20],\n",
       "        [24, 25, 26],\n",
       "        [30, 31, 32],\n",
       "        [36, 37, 38],\n",
       "        [42, 43, 44],\n",
       "        [48, 49, 50],\n",
       "        [54, 55, 56]]),\n",
       " array([[ 3,  4,  5],\n",
       "        [ 9, 10, 11],\n",
       "        [15, 16, 17],\n",
       "        [21, 22, 23],\n",
       "        [27, 28, 29],\n",
       "        [33, 34, 35],\n",
       "        [39, 40, 41],\n",
       "        [45, 46, 47],\n",
       "        [51, 52, 53],\n",
       "        [57, 58, 59]])]"
      ]
     },
     "execution_count": 149,
     "metadata": {},
     "output_type": "execute_result"
    }
   ],
   "source": [
    "print(\"Now we will split the array by columns (hsplit()):\")\n",
    "np.hsplit(Array_11,2)"
   ]
  }
 ],
 "metadata": {
  "kernelspec": {
   "display_name": "Python 3 (ipykernel)",
   "language": "python",
   "name": "python3"
  },
  "language_info": {
   "codemirror_mode": {
    "name": "ipython",
    "version": 3
   },
   "file_extension": ".py",
   "mimetype": "text/x-python",
   "name": "python",
   "nbconvert_exporter": "python",
   "pygments_lexer": "ipython3",
   "version": "3.9.7"
  }
 },
 "nbformat": 4,
 "nbformat_minor": 5
}
